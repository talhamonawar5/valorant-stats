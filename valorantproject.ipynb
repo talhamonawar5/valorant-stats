{
 "cells": [
  {
   "cell_type": "code",
   "execution_count": 21,
   "id": "2ee8cded",
   "metadata": {},
   "outputs": [],
   "source": [
    "#The purpose of this project is to depict the disparites between each rank within the ranked system of the tactical-FPS shooter\n",
    "#Valorant. Through conducting an exploratory data analysis (EDA) byu utilizing the Python pandas library,\n",
    "#we are able to show the more nuanced aspects of skill that differentiate players betweene each rank. \n",
    "\n",
    "#The data was extrapolated from the website blitz.gg and processed into a .CSV file\n",
    "#Blitz.gg gets their data from API of the company that developed Valorant (Riot Games)\n",
    "\n",
    "#The project also consists of two machine learning models developed\n",
    "#using scikit-learn that predict the KD ratio and Average Combat score of a player based \n",
    "#off of various statistics such as rank, win %, first blood %, etc.\n",
    "\n",
    "#For additional background information, the ranks are as follows in ascending order (lowest-highest rank)\n",
    "\n",
    "#Iron\n",
    "#Bronze\n",
    "#Silver\n",
    "#Gold\n",
    "#Platinum\n",
    "#Diamond\n",
    "#Immortal \n",
    "#Radiant\n",
    "\n",
    "#There are three divisions from the Iron-Diamond ranks; however, for this project we will only use\n",
    "#the first division for each rank."
   ]
  },
  {
   "cell_type": "code",
   "execution_count": 1,
   "id": "8cd25905",
   "metadata": {},
   "outputs": [],
   "source": [
    "import pandas as pd\n",
    "#First dataframe consists of all combination of agents and ranks and various statistics\n",
    "df = pd.read_csv(\"datasets/RankedData.csv\")\n",
    "#Second dataframe consists of weapon statistics for main weapons (phantom/vandal) and ranks\n",
    "df_weapon = pd.read_csv(\"datasets/WeaponData.csv\")"
   ]
  },
  {
   "cell_type": "code",
   "execution_count": 9,
   "id": "bc0196a2",
   "metadata": {},
   "outputs": [
    {
     "data": {
      "text/html": [
       "<div>\n",
       "<style scoped>\n",
       "    .dataframe tbody tr th:only-of-type {\n",
       "        vertical-align: middle;\n",
       "    }\n",
       "\n",
       "    .dataframe tbody tr th {\n",
       "        vertical-align: top;\n",
       "    }\n",
       "\n",
       "    .dataframe thead th {\n",
       "        text-align: right;\n",
       "    }\n",
       "</style>\n",
       "<table border=\"1\" class=\"dataframe\">\n",
       "  <thead>\n",
       "    <tr style=\"text-align: right;\">\n",
       "      <th></th>\n",
       "      <th>KD</th>\n",
       "      <th>KDA</th>\n",
       "      <th>Win %</th>\n",
       "      <th>Pick %</th>\n",
       "      <th>Avg. Score</th>\n",
       "      <th>First Blood %</th>\n",
       "      <th>Matches</th>\n",
       "      <th>Rank</th>\n",
       "      <th>Agent</th>\n",
       "    </tr>\n",
       "    <tr>\n",
       "      <th>Agent Rank</th>\n",
       "      <th></th>\n",
       "      <th></th>\n",
       "      <th></th>\n",
       "      <th></th>\n",
       "      <th></th>\n",
       "      <th></th>\n",
       "      <th></th>\n",
       "      <th></th>\n",
       "      <th></th>\n",
       "    </tr>\n",
       "  </thead>\n",
       "  <tbody>\n",
       "    <tr>\n",
       "      <th>Radiant Astra</th>\n",
       "      <td>1.07</td>\n",
       "      <td>15.9 / 14.9 / 4.6</td>\n",
       "      <td>0.554</td>\n",
       "      <td>0.028</td>\n",
       "      <td>213</td>\n",
       "      <td>0.101</td>\n",
       "      <td>9384</td>\n",
       "      <td>Radiant</td>\n",
       "      <td>Astra</td>\n",
       "    </tr>\n",
       "  </tbody>\n",
       "</table>\n",
       "</div>"
      ],
      "text/plain": [
       "                 KD                KDA  Win %  Pick %  Avg. Score  \\\n",
       "Agent Rank                                                          \n",
       "Radiant Astra  1.07  15.9 / 14.9 / 4.6  0.554   0.028         213   \n",
       "\n",
       "               First Blood %  Matches     Rank  Agent  \n",
       "Agent Rank                                             \n",
       "Radiant Astra          0.101     9384  Radiant  Astra  "
      ]
     },
     "execution_count": 9,
     "metadata": {},
     "output_type": "execute_result"
    }
   ],
   "source": [
    "#Determining which agent (character) and at what rank has the highest average match Win % when selected\n",
    "df[df['Win %'] == df['Win %'].max()]"
   ]
  },
  {
   "cell_type": "code",
   "execution_count": 32,
   "id": "2d04dfea",
   "metadata": {},
   "outputs": [
    {
     "data": {
      "text/html": [
       "<div>\n",
       "<style scoped>\n",
       "    .dataframe tbody tr th:only-of-type {\n",
       "        vertical-align: middle;\n",
       "    }\n",
       "\n",
       "    .dataframe tbody tr th {\n",
       "        vertical-align: top;\n",
       "    }\n",
       "\n",
       "    .dataframe thead th {\n",
       "        text-align: right;\n",
       "    }\n",
       "</style>\n",
       "<table border=\"1\" class=\"dataframe\">\n",
       "  <thead>\n",
       "    <tr style=\"text-align: right;\">\n",
       "      <th></th>\n",
       "      <th>KD</th>\n",
       "      <th>KDA</th>\n",
       "      <th>Win %</th>\n",
       "      <th>Pick %</th>\n",
       "      <th>Avg. Score</th>\n",
       "      <th>First Blood %</th>\n",
       "      <th>Matches</th>\n",
       "      <th>Rank</th>\n",
       "      <th>Agent</th>\n",
       "    </tr>\n",
       "    <tr>\n",
       "      <th>Agent Rank</th>\n",
       "      <th></th>\n",
       "      <th></th>\n",
       "      <th></th>\n",
       "      <th></th>\n",
       "      <th></th>\n",
       "      <th></th>\n",
       "      <th></th>\n",
       "      <th></th>\n",
       "      <th></th>\n",
       "    </tr>\n",
       "  </thead>\n",
       "  <tbody>\n",
       "    <tr>\n",
       "      <th>Radiant Jett</th>\n",
       "      <td>1.14</td>\n",
       "      <td>18.6 / 16.4 / 3.6</td>\n",
       "      <td>0.511</td>\n",
       "      <td>0.193</td>\n",
       "      <td>253</td>\n",
       "      <td>0.206</td>\n",
       "      <td>65943</td>\n",
       "      <td>Radiant</td>\n",
       "      <td>Jett</td>\n",
       "    </tr>\n",
       "  </tbody>\n",
       "</table>\n",
       "</div>"
      ],
      "text/plain": [
       "                KD                KDA  Win %  Pick %  Avg. Score  \\\n",
       "Agent Rank                                                         \n",
       "Radiant Jett  1.14  18.6 / 16.4 / 3.6  0.511   0.193         253   \n",
       "\n",
       "              First Blood %  Matches     Rank Agent  \n",
       "Agent Rank                                           \n",
       "Radiant Jett          0.206    65943  Radiant  Jett  "
      ]
     },
     "execution_count": 32,
     "metadata": {},
     "output_type": "execute_result"
    }
   ],
   "source": [
    "#Determining which agent (character) and at what rank has the highest average match Pick %\n",
    "df[df['Pick %'] == df['Pick %'].max()]"
   ]
  },
  {
   "cell_type": "code",
   "execution_count": 11,
   "id": "1f8c576d",
   "metadata": {},
   "outputs": [
    {
     "data": {
      "text/html": [
       "<div>\n",
       "<style scoped>\n",
       "    .dataframe tbody tr th:only-of-type {\n",
       "        vertical-align: middle;\n",
       "    }\n",
       "\n",
       "    .dataframe tbody tr th {\n",
       "        vertical-align: top;\n",
       "    }\n",
       "\n",
       "    .dataframe thead th {\n",
       "        text-align: right;\n",
       "    }\n",
       "</style>\n",
       "<table border=\"1\" class=\"dataframe\">\n",
       "  <thead>\n",
       "    <tr style=\"text-align: right;\">\n",
       "      <th></th>\n",
       "      <th>KD</th>\n",
       "      <th>KDA</th>\n",
       "      <th>Win %</th>\n",
       "      <th>Pick %</th>\n",
       "      <th>Avg. Score</th>\n",
       "      <th>First Blood %</th>\n",
       "      <th>Matches</th>\n",
       "      <th>Rank</th>\n",
       "      <th>Agent</th>\n",
       "    </tr>\n",
       "    <tr>\n",
       "      <th>Agent Rank</th>\n",
       "      <th></th>\n",
       "      <th></th>\n",
       "      <th></th>\n",
       "      <th></th>\n",
       "      <th></th>\n",
       "      <th></th>\n",
       "      <th></th>\n",
       "      <th></th>\n",
       "      <th></th>\n",
       "    </tr>\n",
       "  </thead>\n",
       "  <tbody>\n",
       "    <tr>\n",
       "      <th>Silver 1 Raze</th>\n",
       "      <td>1.05</td>\n",
       "      <td>16.1 / 15.3 / 5.0</td>\n",
       "      <td>0.51</td>\n",
       "      <td>0.088</td>\n",
       "      <td>241</td>\n",
       "      <td>0.149</td>\n",
       "      <td>1732980</td>\n",
       "      <td>Silver 1</td>\n",
       "      <td>Raze</td>\n",
       "    </tr>\n",
       "  </tbody>\n",
       "</table>\n",
       "</div>"
      ],
      "text/plain": [
       "                 KD                KDA  Win %  Pick %  Avg. Score  \\\n",
       "Agent Rank                                                          \n",
       "Silver 1 Raze  1.05  16.1 / 15.3 / 5.0   0.51   0.088         241   \n",
       "\n",
       "               First Blood %  Matches      Rank Agent  \n",
       "Agent Rank                                             \n",
       "Silver 1 Raze          0.149  1732980  Silver 1  Raze  "
      ]
     },
     "execution_count": 11,
     "metadata": {},
     "output_type": "execute_result"
    }
   ],
   "source": [
    "#Creating a subset of data frame that only consists of data of Silver 1 players\n",
    "silver_df = df[df['Rank'] == \"Silver 1\"]\n",
    "#Determining which agent has the greatest win % at the Silver 1 rank\n",
    "silver_df[silver_df['Win %'] == silver_df['Win %'].max()]"
   ]
  },
  {
   "cell_type": "code",
   "execution_count": 73,
   "id": "e344de2d",
   "metadata": {},
   "outputs": [
    {
     "data": {
      "text/html": [
       "<div>\n",
       "<style scoped>\n",
       "    .dataframe tbody tr th:only-of-type {\n",
       "        vertical-align: middle;\n",
       "    }\n",
       "\n",
       "    .dataframe tbody tr th {\n",
       "        vertical-align: top;\n",
       "    }\n",
       "\n",
       "    .dataframe thead th {\n",
       "        text-align: right;\n",
       "    }\n",
       "</style>\n",
       "<table border=\"1\" class=\"dataframe\">\n",
       "  <thead>\n",
       "    <tr style=\"text-align: right;\">\n",
       "      <th></th>\n",
       "      <th>KD</th>\n",
       "      <th>KDA</th>\n",
       "      <th>Win %</th>\n",
       "      <th>Pick %</th>\n",
       "      <th>Avg. Score</th>\n",
       "      <th>First Blood %</th>\n",
       "      <th>Matches</th>\n",
       "      <th>Rank</th>\n",
       "      <th>Agent</th>\n",
       "    </tr>\n",
       "    <tr>\n",
       "      <th>Agent Rank</th>\n",
       "      <th></th>\n",
       "      <th></th>\n",
       "      <th></th>\n",
       "      <th></th>\n",
       "      <th></th>\n",
       "      <th></th>\n",
       "      <th></th>\n",
       "      <th></th>\n",
       "      <th></th>\n",
       "    </tr>\n",
       "  </thead>\n",
       "  <tbody>\n",
       "    <tr>\n",
       "      <th>Radiant Sova</th>\n",
       "      <td>1.05</td>\n",
       "      <td>15.4 / 14.7 / 7.2</td>\n",
       "      <td>0.516</td>\n",
       "      <td>0.114</td>\n",
       "      <td>216</td>\n",
       "      <td>0.086</td>\n",
       "      <td>38811</td>\n",
       "      <td>Radiant</td>\n",
       "      <td>Sova</td>\n",
       "    </tr>\n",
       "  </tbody>\n",
       "</table>\n",
       "</div>"
      ],
      "text/plain": [
       "                KD                KDA  Win %  Pick %  Avg. Score  \\\n",
       "Agent Rank                                                         \n",
       "Radiant Sova  1.05  15.4 / 14.7 / 7.2  0.516   0.114         216   \n",
       "\n",
       "              First Blood %  Matches     Rank Agent  \n",
       "Agent Rank                                           \n",
       "Radiant Sova          0.086    38811  Radiant  Sova  "
      ]
     },
     "execution_count": 73,
     "metadata": {},
     "output_type": "execute_result"
    }
   ],
   "source": [
    "#In what rank does Sova have the highest win %? Using Groupby function we can determine this\n",
    "Sova = df.groupby('Agent').get_group(\"Sova\")\n",
    "Sova[Sova['Win %'] == Sova['Win %'].max()]"
   ]
  },
  {
   "cell_type": "code",
   "execution_count": 75,
   "id": "93c06eb9",
   "metadata": {},
   "outputs": [
    {
     "data": {
      "text/html": [
       "<div>\n",
       "<style scoped>\n",
       "    .dataframe tbody tr th:only-of-type {\n",
       "        vertical-align: middle;\n",
       "    }\n",
       "\n",
       "    .dataframe tbody tr th {\n",
       "        vertical-align: top;\n",
       "    }\n",
       "\n",
       "    .dataframe thead th {\n",
       "        text-align: right;\n",
       "    }\n",
       "</style>\n",
       "<table border=\"1\" class=\"dataframe\">\n",
       "  <thead>\n",
       "    <tr style=\"text-align: right;\">\n",
       "      <th></th>\n",
       "      <th>KD</th>\n",
       "      <th>KDA</th>\n",
       "      <th>Win %</th>\n",
       "      <th>Pick %</th>\n",
       "      <th>Avg. Score</th>\n",
       "      <th>First Blood %</th>\n",
       "      <th>Matches</th>\n",
       "      <th>Rank</th>\n",
       "      <th>Agent</th>\n",
       "    </tr>\n",
       "    <tr>\n",
       "      <th>Agent Rank</th>\n",
       "      <th></th>\n",
       "      <th></th>\n",
       "      <th></th>\n",
       "      <th></th>\n",
       "      <th></th>\n",
       "      <th></th>\n",
       "      <th></th>\n",
       "      <th></th>\n",
       "      <th></th>\n",
       "    </tr>\n",
       "  </thead>\n",
       "  <tbody>\n",
       "    <tr>\n",
       "      <th>Radiant Jett</th>\n",
       "      <td>1.14</td>\n",
       "      <td>18.6 / 16.4 / 3.6</td>\n",
       "      <td>0.511</td>\n",
       "      <td>0.193</td>\n",
       "      <td>253</td>\n",
       "      <td>0.206</td>\n",
       "      <td>65943</td>\n",
       "      <td>Radiant</td>\n",
       "      <td>Jett</td>\n",
       "    </tr>\n",
       "  </tbody>\n",
       "</table>\n",
       "</div>"
      ],
      "text/plain": [
       "                KD                KDA  Win %  Pick %  Avg. Score  \\\n",
       "Agent Rank                                                         \n",
       "Radiant Jett  1.14  18.6 / 16.4 / 3.6  0.511   0.193         253   \n",
       "\n",
       "              First Blood %  Matches     Rank Agent  \n",
       "Agent Rank                                           \n",
       "Radiant Jett          0.206    65943  Radiant  Jett  "
      ]
     },
     "execution_count": 75,
     "metadata": {},
     "output_type": "execute_result"
    }
   ],
   "source": [
    "df[df['First Blood %'] == df['First Blood %'].max()] #Radiant Jett has the greatest first blood % @ 20.6%"
   ]
  },
  {
   "cell_type": "code",
   "execution_count": 17,
   "id": "fd304910",
   "metadata": {},
   "outputs": [
    {
     "data": {
      "text/plain": [
       "<AxesSubplot:xlabel='Agent Rank'>"
      ]
     },
     "execution_count": 17,
     "metadata": {},
     "output_type": "execute_result"
    },
    {
     "data": {
      "image/png": "[encoded data removed]",
      "text/plain": [
       "<Figure size 792x360 with 1 Axes>"
      ]
     },
     "metadata": {
      "needs_background": "light"
     },
     "output_type": "display_data"
    }
   ],
   "source": [
    "jett_df = df[df['Agent'] == \"Jett\"]\n",
    "jett_df = jett_df.set_index(\"Agent Rank\")\n",
    "#Graphing the first blood % of the agent Jett at each rank\n",
    "jett_df['First Blood %'].plot(figsize=(11,5))\n",
    "\n",
    "# As seen, as the rank of a Jett player increases, their first blood % increases since the role of a Jett is to entry\n",
    "#(meaning a Jett player should be the first one onto site)\n",
    "#This plot depicts how as the rank of a user who plays Jett increases, they begin to understand how to properly play their role\n",
    "#as en entry fragger."
   ]
  },
  {
   "cell_type": "code",
   "execution_count": 19,
   "id": "5dfe1171",
   "metadata": {},
   "outputs": [
    {
     "data": {
      "text/plain": [
       "<AxesSubplot:xlabel='Agent Rank'>"
      ]
     },
     "execution_count": 19,
     "metadata": {},
     "output_type": "execute_result"
    },
    {
     "data": {
      "image/png": "[encoded data removed]",
      "text/plain": [
       "<Figure size 864x360 with 1 Axes>"
      ]
     },
     "metadata": {
      "needs_background": "light"
     },
     "output_type": "display_data"
    }
   ],
   "source": [
    "sova_firstBlood = df[df['Agent'] == \"Sova\"]\n",
    "sova_firstBlood = sova_firstBlood.set_index(\"Agent Rank\")\n",
    "sova_firstBlood['First Blood %'].plot(figsize=(12,5))\n",
    "\n",
    "#Here, we plot the first blood % of the agent Sova, whose role is that of a support character (meaning that they should not)\n",
    "#be entrying like the agent Jett would \n",
    "\n",
    "#As shown, as the rank of a user who plays Sova increases, their understanding of their role increases which causes their\n",
    "#first blood % to decrease heavily."
   ]
  },
  {
   "cell_type": "code",
   "execution_count": 34,
   "id": "8baeafe2",
   "metadata": {},
   "outputs": [
    {
     "data": {
      "text/html": [
       "<div>\n",
       "<style scoped>\n",
       "    .dataframe tbody tr th:only-of-type {\n",
       "        vertical-align: middle;\n",
       "    }\n",
       "\n",
       "    .dataframe tbody tr th {\n",
       "        vertical-align: top;\n",
       "    }\n",
       "\n",
       "    .dataframe thead th {\n",
       "        text-align: right;\n",
       "    }\n",
       "</style>\n",
       "<table border=\"1\" class=\"dataframe\">\n",
       "  <thead>\n",
       "    <tr style=\"text-align: right;\">\n",
       "      <th></th>\n",
       "      <th>KD</th>\n",
       "      <th>KDA</th>\n",
       "      <th>Win %</th>\n",
       "      <th>Pick %</th>\n",
       "      <th>Avg. Score</th>\n",
       "      <th>First Blood %</th>\n",
       "      <th>Matches</th>\n",
       "      <th>Rank</th>\n",
       "      <th>Agent</th>\n",
       "    </tr>\n",
       "    <tr>\n",
       "      <th>Agent Rank</th>\n",
       "      <th></th>\n",
       "      <th></th>\n",
       "      <th></th>\n",
       "      <th></th>\n",
       "      <th></th>\n",
       "      <th></th>\n",
       "      <th></th>\n",
       "      <th></th>\n",
       "      <th></th>\n",
       "    </tr>\n",
       "  </thead>\n",
       "  <tbody>\n",
       "    <tr>\n",
       "      <th>Silver 1 Raze</th>\n",
       "      <td>1.05</td>\n",
       "      <td>16.1 / 15.3 / 5.0</td>\n",
       "      <td>0.51</td>\n",
       "      <td>0.088</td>\n",
       "      <td>241</td>\n",
       "      <td>0.149</td>\n",
       "      <td>1732980</td>\n",
       "      <td>Silver 1</td>\n",
       "      <td>Raze</td>\n",
       "    </tr>\n",
       "  </tbody>\n",
       "</table>\n",
       "</div>"
      ],
      "text/plain": [
       "                 KD                KDA  Win %  Pick %  Avg. Score  \\\n",
       "Agent Rank                                                          \n",
       "Silver 1 Raze  1.05  16.1 / 15.3 / 5.0   0.51   0.088         241   \n",
       "\n",
       "               First Blood %  Matches      Rank Agent  \n",
       "Agent Rank                                             \n",
       "Silver 1 Raze          0.149  1732980  Silver 1  Raze  "
      ]
     },
     "execution_count": 34,
     "metadata": {},
     "output_type": "execute_result"
    }
   ],
   "source": [
    "silver_winRate = df[df['Rank'] == \"Silver 1\"]\n",
    "silver_winRate = silver_winRate.set_index(\"Agent Rank\")\n",
    "silver_winRate[silver_winRate['Win %'] == silver_winRate['Win %'].max()]"
   ]
  },
  {
   "cell_type": "code",
   "execution_count": 35,
   "id": "4c7cc275",
   "metadata": {},
   "outputs": [
    {
     "data": {
      "text/plain": [
       "<AxesSubplot:xlabel='Agent Rank'>"
      ]
     },
     "execution_count": 35,
     "metadata": {},
     "output_type": "execute_result"
    },
    {
     "data": {
      "image/png": "[encoded data removed]",
      "text/plain": [
       "<Figure size 1440x360 with 1 Axes>"
      ]
     },
     "metadata": {
      "needs_background": "light"
     },
     "output_type": "display_data"
    }
   ],
   "source": [
    "silver_winRate['Win %'].plot(figsize=(20,5))"
   ]
  },
  {
   "cell_type": "code",
   "execution_count": 36,
   "id": "e4aeb26a",
   "metadata": {},
   "outputs": [
    {
     "data": {
      "text/html": [
       "<div>\n",
       "<style scoped>\n",
       "    .dataframe tbody tr th:only-of-type {\n",
       "        vertical-align: middle;\n",
       "    }\n",
       "\n",
       "    .dataframe tbody tr th {\n",
       "        vertical-align: top;\n",
       "    }\n",
       "\n",
       "    .dataframe thead th {\n",
       "        text-align: right;\n",
       "    }\n",
       "</style>\n",
       "<table border=\"1\" class=\"dataframe\">\n",
       "  <thead>\n",
       "    <tr style=\"text-align: right;\">\n",
       "      <th></th>\n",
       "      <th>KD</th>\n",
       "      <th>KDA</th>\n",
       "      <th>Win %</th>\n",
       "      <th>Pick %</th>\n",
       "      <th>Avg. Score</th>\n",
       "      <th>First Blood %</th>\n",
       "      <th>Matches</th>\n",
       "      <th>Rank</th>\n",
       "      <th>Agent</th>\n",
       "    </tr>\n",
       "    <tr>\n",
       "      <th>Agent Rank</th>\n",
       "      <th></th>\n",
       "      <th></th>\n",
       "      <th></th>\n",
       "      <th></th>\n",
       "      <th></th>\n",
       "      <th></th>\n",
       "      <th></th>\n",
       "      <th></th>\n",
       "      <th></th>\n",
       "    </tr>\n",
       "  </thead>\n",
       "  <tbody>\n",
       "    <tr>\n",
       "      <th>Platinum 1 Raze</th>\n",
       "      <td>1.05</td>\n",
       "      <td>16.6 / 15.8 / 4.9</td>\n",
       "      <td>0.516</td>\n",
       "      <td>0.084</td>\n",
       "      <td>242</td>\n",
       "      <td>0.153</td>\n",
       "      <td>687072</td>\n",
       "      <td>Platinum 1</td>\n",
       "      <td>Raze</td>\n",
       "    </tr>\n",
       "  </tbody>\n",
       "</table>\n",
       "</div>"
      ],
      "text/plain": [
       "                   KD                KDA  Win %  Pick %  Avg. Score  \\\n",
       "Agent Rank                                                            \n",
       "Platinum 1 Raze  1.05  16.6 / 15.8 / 4.9  0.516   0.084         242   \n",
       "\n",
       "                 First Blood %  Matches        Rank Agent  \n",
       "Agent Rank                                                 \n",
       "Platinum 1 Raze          0.153   687072  Platinum 1  Raze  "
      ]
     },
     "execution_count": 36,
     "metadata": {},
     "output_type": "execute_result"
    }
   ],
   "source": [
    "platinum_winRate = df[df['Rank'] == \"Platinum 1\"]\n",
    "platinum_winRate = platinum_winRate.set_index(\"Agent Rank\")\n",
    "platinum_winRate[platinum_winRate['Win %'] == platinum_winRate['Win %'].max()]"
   ]
  },
  {
   "cell_type": "code",
   "execution_count": 38,
   "id": "9b61daa8",
   "metadata": {},
   "outputs": [
    {
     "data": {
      "text/plain": [
       "<AxesSubplot:xlabel='Agent Rank'>"
      ]
     },
     "execution_count": 38,
     "metadata": {},
     "output_type": "execute_result"
    },
    {
     "data": {
      "image/png": "[encoded data removed]",
      "text/plain": [
       "<Figure size 1440x360 with 1 Axes>"
      ]
     },
     "metadata": {
      "needs_background": "light"
     },
     "output_type": "display_data"
    }
   ],
   "source": [
    "platinum_winRate['Win %'].plot(figsize=(20,5))"
   ]
  },
  {
   "cell_type": "code",
   "execution_count": 8,
   "id": "2a8a7537",
   "metadata": {},
   "outputs": [],
   "source": [
    "#Grouping the data set by the agent that is equal to Jett\n",
    "jett_pickRate = df.groupby('Agent').get_group(\"Jett\")"
   ]
  },
  {
   "cell_type": "code",
   "execution_count": 7,
   "id": "70bf4f05",
   "metadata": {},
   "outputs": [
    {
     "data": {
      "image/png": "[encoded data removed]",
      "text/plain": [
       "<Figure size 720x720 with 1 Axes>"
      ]
     },
     "metadata": {},
     "output_type": "display_data"
    }
   ],
   "source": [
    "#Creating a piechart that displays the pick rate of Jett at all ranks\n",
    "plot = jett_pickRate.plot.pie(y='Pick %', figsize=(10, 10))"
   ]
  },
  {
   "cell_type": "code",
   "execution_count": 15,
   "id": "16c0ebc8",
   "metadata": {},
   "outputs": [
    {
     "data": {
      "text/html": [
       "<div>\n",
       "<style scoped>\n",
       "    .dataframe tbody tr th:only-of-type {\n",
       "        vertical-align: middle;\n",
       "    }\n",
       "\n",
       "    .dataframe tbody tr th {\n",
       "        vertical-align: top;\n",
       "    }\n",
       "\n",
       "    .dataframe thead th {\n",
       "        text-align: right;\n",
       "    }\n",
       "</style>\n",
       "<table border=\"1\" class=\"dataframe\">\n",
       "  <thead>\n",
       "    <tr style=\"text-align: right;\">\n",
       "      <th></th>\n",
       "      <th>KD</th>\n",
       "      <th>KDA</th>\n",
       "      <th>Win %</th>\n",
       "      <th>Pick %</th>\n",
       "      <th>Avg. Score</th>\n",
       "      <th>First Blood %</th>\n",
       "      <th>Matches</th>\n",
       "      <th>Rank</th>\n",
       "      <th>Agent</th>\n",
       "    </tr>\n",
       "    <tr>\n",
       "      <th>Agent Rank</th>\n",
       "      <th></th>\n",
       "      <th></th>\n",
       "      <th></th>\n",
       "      <th></th>\n",
       "      <th></th>\n",
       "      <th></th>\n",
       "      <th></th>\n",
       "      <th></th>\n",
       "      <th></th>\n",
       "    </tr>\n",
       "  </thead>\n",
       "  <tbody>\n",
       "    <tr>\n",
       "      <th>Iron 1 Jett</th>\n",
       "      <td>0.93</td>\n",
       "      <td>13.3 / 14.3 / 3.6</td>\n",
       "      <td>0.512</td>\n",
       "      <td>0.101</td>\n",
       "      <td>200</td>\n",
       "      <td>0.156</td>\n",
       "      <td>292383</td>\n",
       "      <td>Iron 1</td>\n",
       "      <td>Jett</td>\n",
       "    </tr>\n",
       "    <tr>\n",
       "      <th>Bronze 1 Jett</th>\n",
       "      <td>1.07</td>\n",
       "      <td>16.0 / 15.0 / 4.0</td>\n",
       "      <td>0.510</td>\n",
       "      <td>0.106</td>\n",
       "      <td>234</td>\n",
       "      <td>0.168</td>\n",
       "      <td>1568964</td>\n",
       "      <td>Bronze 1</td>\n",
       "      <td>Jett</td>\n",
       "    </tr>\n",
       "    <tr>\n",
       "      <th>Silver 1 Jett</th>\n",
       "      <td>1.14</td>\n",
       "      <td>17.4 / 15.2 / 3.9</td>\n",
       "      <td>0.506</td>\n",
       "      <td>0.126</td>\n",
       "      <td>251</td>\n",
       "      <td>0.177</td>\n",
       "      <td>2491095</td>\n",
       "      <td>Silver 1</td>\n",
       "      <td>Jett</td>\n",
       "    </tr>\n",
       "    <tr>\n",
       "      <th>Gold 1 Jett</th>\n",
       "      <td>1.11</td>\n",
       "      <td>17.3 / 15.6 / 3.8</td>\n",
       "      <td>0.502</td>\n",
       "      <td>0.133</td>\n",
       "      <td>246</td>\n",
       "      <td>0.182</td>\n",
       "      <td>2221560</td>\n",
       "      <td>Gold 1</td>\n",
       "      <td>Jett</td>\n",
       "    </tr>\n",
       "    <tr>\n",
       "      <th>Platinum 1 Jett</th>\n",
       "      <td>1.10</td>\n",
       "      <td>17.4 / 15.8 / 3.7</td>\n",
       "      <td>0.492</td>\n",
       "      <td>0.148</td>\n",
       "      <td>244</td>\n",
       "      <td>0.189</td>\n",
       "      <td>1213290</td>\n",
       "      <td>Platinum 1</td>\n",
       "      <td>Jett</td>\n",
       "    </tr>\n",
       "    <tr>\n",
       "      <th>Diamond 1 Jett</th>\n",
       "      <td>1.09</td>\n",
       "      <td>17.4 / 16.0 / 3.6</td>\n",
       "      <td>0.498</td>\n",
       "      <td>0.155</td>\n",
       "      <td>242</td>\n",
       "      <td>0.195</td>\n",
       "      <td>516375</td>\n",
       "      <td>Diamond 1</td>\n",
       "      <td>Jett</td>\n",
       "    </tr>\n",
       "    <tr>\n",
       "      <th>Immortal Jett</th>\n",
       "      <td>1.07</td>\n",
       "      <td>17.3 / 16.1 / 3.5</td>\n",
       "      <td>0.493</td>\n",
       "      <td>0.168</td>\n",
       "      <td>240</td>\n",
       "      <td>0.201</td>\n",
       "      <td>813450</td>\n",
       "      <td>Immortal</td>\n",
       "      <td>Jett</td>\n",
       "    </tr>\n",
       "    <tr>\n",
       "      <th>Radiant Jett</th>\n",
       "      <td>1.14</td>\n",
       "      <td>18.6 / 16.4 / 3.6</td>\n",
       "      <td>0.511</td>\n",
       "      <td>0.193</td>\n",
       "      <td>253</td>\n",
       "      <td>0.206</td>\n",
       "      <td>65943</td>\n",
       "      <td>Radiant</td>\n",
       "      <td>Jett</td>\n",
       "    </tr>\n",
       "  </tbody>\n",
       "</table>\n",
       "</div>"
      ],
      "text/plain": [
       "                   KD                KDA  Win %  Pick %  Avg. Score  \\\n",
       "Agent Rank                                                            \n",
       "Iron 1 Jett      0.93  13.3 / 14.3 / 3.6  0.512   0.101         200   \n",
       "Bronze 1 Jett    1.07  16.0 / 15.0 / 4.0  0.510   0.106         234   \n",
       "Silver 1 Jett    1.14  17.4 / 15.2 / 3.9  0.506   0.126         251   \n",
       "Gold 1 Jett      1.11  17.3 / 15.6 / 3.8  0.502   0.133         246   \n",
       "Platinum 1 Jett  1.10  17.4 / 15.8 / 3.7  0.492   0.148         244   \n",
       "Diamond 1 Jett   1.09  17.4 / 16.0 / 3.6  0.498   0.155         242   \n",
       "Immortal Jett    1.07  17.3 / 16.1 / 3.5  0.493   0.168         240   \n",
       "Radiant Jett     1.14  18.6 / 16.4 / 3.6  0.511   0.193         253   \n",
       "\n",
       "                 First Blood %  Matches        Rank Agent  \n",
       "Agent Rank                                                 \n",
       "Iron 1 Jett              0.156   292383      Iron 1  Jett  \n",
       "Bronze 1 Jett            0.168  1568964    Bronze 1  Jett  \n",
       "Silver 1 Jett            0.177  2491095    Silver 1  Jett  \n",
       "Gold 1 Jett              0.182  2221560      Gold 1  Jett  \n",
       "Platinum 1 Jett          0.189  1213290  Platinum 1  Jett  \n",
       "Diamond 1 Jett           0.195   516375   Diamond 1  Jett  \n",
       "Immortal Jett            0.201   813450    Immortal  Jett  \n",
       "Radiant Jett             0.206    65943     Radiant  Jett  "
      ]
     },
     "execution_count": 15,
     "metadata": {},
     "output_type": "execute_result"
    }
   ],
   "source": [
    "#Tabular depiction of Jett's pick rate at all ranks\n",
    "jett_pickRate.head(8)"
   ]
  },
  {
   "cell_type": "code",
   "execution_count": 4,
   "id": "f51be379",
   "metadata": {},
   "outputs": [],
   "source": [
    "#Start of the creation of ML models that predict KD and Avg. Score. \n",
    "#Creating two dictionaries to quantify the rank and agent values. Since agent's value is arbitary the numerical\n",
    "#representation of agent does not matter. However, for ranks, the digit increases the rank increases since rank is not arbitary.\n",
    "rank_class_dict = {\"Iron 1\": 1, \"Bronze 1\":2, \"Silver 1\":3, \"Gold 1\": 4, \"Platinum 1\":5, \"Diamond 1\":6, \"Immortal\": 7, \"Radiant\": 8}\n",
    "agent_class_dict = {\"Sage\":1, \"Raze\": 2, \"Reyna\": 3, \"Sova\":4, \"Astra\": 5, \"Viper\": 6, \"Breach\": 7, \"Brimstone\": 8, \"Phoenix\": 9, \"Jett\": 10, \"Yoru\": 11, \"Omen\": 12, \"Skye\": 13, \"Cypher\":14, \"Killjoy\":15}\n",
    "\n",
    "#Mapping rank and agent dictionaries to rank and agent columns\n",
    "df['Rank'] = df['Rank'].map(rank_class_dict)\n",
    "df['Agent'] = df['Agent'].map(agent_class_dict)\n"
   ]
  },
  {
   "cell_type": "code",
   "execution_count": 7,
   "id": "c42d87c0",
   "metadata": {},
   "outputs": [
    {
     "data": {
      "text/html": [
       "<div>\n",
       "<style scoped>\n",
       "    .dataframe tbody tr th:only-of-type {\n",
       "        vertical-align: middle;\n",
       "    }\n",
       "\n",
       "    .dataframe tbody tr th {\n",
       "        vertical-align: top;\n",
       "    }\n",
       "\n",
       "    .dataframe thead th {\n",
       "        text-align: right;\n",
       "    }\n",
       "</style>\n",
       "<table border=\"1\" class=\"dataframe\">\n",
       "  <thead>\n",
       "    <tr style=\"text-align: right;\">\n",
       "      <th></th>\n",
       "      <th>Agent Rank</th>\n",
       "      <th>KD</th>\n",
       "      <th>KDA</th>\n",
       "      <th>Win %</th>\n",
       "      <th>Pick %</th>\n",
       "      <th>Avg. Score</th>\n",
       "      <th>First Blood %</th>\n",
       "      <th>Matches</th>\n",
       "      <th>Rank</th>\n",
       "      <th>Agent</th>\n",
       "    </tr>\n",
       "  </thead>\n",
       "  <tbody>\n",
       "    <tr>\n",
       "      <th>0</th>\n",
       "      <td>Iron 1 Sage</td>\n",
       "      <td>0.76</td>\n",
       "      <td>10.6 / 14.0 / 5.7</td>\n",
       "      <td>0.518</td>\n",
       "      <td>0.176</td>\n",
       "      <td>160</td>\n",
       "      <td>0.114</td>\n",
       "      <td>510561</td>\n",
       "      <td>1</td>\n",
       "      <td>1</td>\n",
       "    </tr>\n",
       "    <tr>\n",
       "      <th>1</th>\n",
       "      <td>Iron 1 Raze</td>\n",
       "      <td>0.89</td>\n",
       "      <td>12.9 / 14.5 / 4.7</td>\n",
       "      <td>0.518</td>\n",
       "      <td>0.117</td>\n",
       "      <td>202</td>\n",
       "      <td>0.141</td>\n",
       "      <td>339609</td>\n",
       "      <td>1</td>\n",
       "      <td>2</td>\n",
       "    </tr>\n",
       "    <tr>\n",
       "      <th>2</th>\n",
       "      <td>Iron 1 Reyna</td>\n",
       "      <td>0.97</td>\n",
       "      <td>14.0 / 14.4 / 4.4</td>\n",
       "      <td>0.516</td>\n",
       "      <td>0.116</td>\n",
       "      <td>212</td>\n",
       "      <td>0.156</td>\n",
       "      <td>338538</td>\n",
       "      <td>1</td>\n",
       "      <td>3</td>\n",
       "    </tr>\n",
       "    <tr>\n",
       "      <th>3</th>\n",
       "      <td>Iron 1 Jett</td>\n",
       "      <td>0.93</td>\n",
       "      <td>13.3 / 14.3 / 3.6</td>\n",
       "      <td>0.512</td>\n",
       "      <td>0.101</td>\n",
       "      <td>200</td>\n",
       "      <td>0.156</td>\n",
       "      <td>292383</td>\n",
       "      <td>1</td>\n",
       "      <td>10</td>\n",
       "    </tr>\n",
       "    <tr>\n",
       "      <th>4</th>\n",
       "      <td>Iron 1 Sova</td>\n",
       "      <td>0.78</td>\n",
       "      <td>11.1 / 14.2 / 5.0</td>\n",
       "      <td>0.511</td>\n",
       "      <td>0.075</td>\n",
       "      <td>170</td>\n",
       "      <td>0.111</td>\n",
       "      <td>217974</td>\n",
       "      <td>1</td>\n",
       "      <td>4</td>\n",
       "    </tr>\n",
       "  </tbody>\n",
       "</table>\n",
       "</div>"
      ],
      "text/plain": [
       "     Agent Rank    KD                KDA  Win %  Pick %  Avg. Score  \\\n",
       "0   Iron 1 Sage  0.76  10.6 / 14.0 / 5.7  0.518   0.176         160   \n",
       "1   Iron 1 Raze  0.89  12.9 / 14.5 / 4.7  0.518   0.117         202   \n",
       "2  Iron 1 Reyna  0.97  14.0 / 14.4 / 4.4  0.516   0.116         212   \n",
       "3   Iron 1 Jett  0.93  13.3 / 14.3 / 3.6  0.512   0.101         200   \n",
       "4   Iron 1 Sova  0.78  11.1 / 14.2 / 5.0  0.511   0.075         170   \n",
       "\n",
       "   First Blood %  Matches  Rank  Agent  \n",
       "0          0.114   510561     1      1  \n",
       "1          0.141   339609     1      2  \n",
       "2          0.156   338538     1      3  \n",
       "3          0.156   292383     1     10  \n",
       "4          0.111   217974     1      4  "
      ]
     },
     "execution_count": 7,
     "metadata": {},
     "output_type": "execute_result"
    }
   ],
   "source": [
    "#Depicting mapped dataframe's head\n",
    "df.head()"
   ]
  },
  {
   "cell_type": "code",
   "execution_count": 5,
   "id": "49b8cc3b",
   "metadata": {},
   "outputs": [
    {
     "data": {
      "text/plain": [
       "SVR(kernel='linear')"
      ]
     },
     "execution_count": 5,
     "metadata": {},
     "output_type": "execute_result"
    }
   ],
   "source": [
    "import sklearn\n",
    "from sklearn import svm, preprocessing\n",
    "#Shuffling dataframe since the data is sorted.\n",
    "df = sklearn.utils.shuffle(df)\n",
    "\n",
    "#First ML model that predicts the Avg. Score based off various statistics within the dataframe\n",
    "X = df.drop([\"Agent Rank\",'KDA', 'Matches','Avg. Score','Agent'],axis = 1).values\n",
    "X = preprocessing.scale(X)\n",
    "y = df['Avg. Score'].values\n",
    "\n",
    "test_size = 105\n",
    "X_train = X[:-test_size]\n",
    "y_train = y[:-test_size]\n",
    "\n",
    "X_test = X[-test_size:]\n",
    "y_test = y[-test_size:]\n",
    "\n",
    "clf_acs = svm.SVR(kernel=\"linear\")\n",
    "\n",
    "clf_acs.fit(X_train,y_train)\n",
    "\n",
    "\n",
    "#Second ML model that predicts the KD based off various statistics within the dataframe\n",
    "X2 = df.drop([\"Agent Rank\",'KDA', 'Matches','KD','Agent'],axis = 1).values\n",
    "X2 = preprocessing.scale(X)\n",
    "y2= df['KD'].values\n",
    "\n",
    "test_size2 = 102\n",
    "X2_train = X2[:-test_size2]\n",
    "y2_train = y2[:-test_size2]\n",
    "\n",
    "X2_test = X2[-test_size2:]\n",
    "y2_test = y2[-test_size2:]\n",
    "\n",
    "clf_kd = svm.SVR(kernel=\"linear\")\n",
    "\n",
    "clf_kd.fit(X2_train,y2_train)\n"
   ]
  },
  {
   "cell_type": "code",
   "execution_count": 6,
   "id": "46751044",
   "metadata": {},
   "outputs": [
    {
     "data": {
      "text/plain": [
       "0.8212277030334585"
      ]
     },
     "execution_count": 6,
     "metadata": {},
     "output_type": "execute_result"
    }
   ],
   "source": [
    "clf_acs.score(X_test,y_test)"
   ]
  },
  {
   "cell_type": "code",
   "execution_count": 7,
   "id": "ca2e9079",
   "metadata": {},
   "outputs": [
    {
     "name": "stdout",
     "output_type": "stream",
     "text": [
      "Model: 200.31053127942977, Actual: 199\n",
      "Model: 211.92317181581177, Actual: 213\n",
      "Model: 196.29664254434107, Actual: 195\n",
      "Model: 203.72881676379413, Actual: 210\n",
      "Model: 198.19548010233896, Actual: 198\n",
      "Model: 226.30411111273193, Actual: 232\n",
      "Model: 223.15362367579505, Actual: 239\n",
      "Model: 208.1615149396765, Actual: 202\n",
      "Model: 201.09904796822028, Actual: 205\n",
      "Model: 186.9999593357257, Actual: 171\n",
      "Model: 197.5031287161922, Actual: 196\n",
      "Model: 242.71733326733735, Actual: 251\n",
      "Model: 242.22270883685027, Actual: 246\n",
      "Model: 242.21672927117382, Actual: 250\n",
      "Model: 199.67705111435382, Actual: 196\n",
      "Model: 200.4253138801003, Actual: 194\n",
      "Model: 247.13192498848275, Actual: 240\n",
      "Model: 202.28355204241322, Actual: 202\n",
      "Model: 199.06127670198507, Actual: 197\n",
      "Model: 200.77179897200546, Actual: 199\n",
      "Model: 202.34785235835253, Actual: 201\n",
      "Model: 228.3455398534147, Actual: 233\n",
      "Model: 205.4748967910536, Actual: 202\n",
      "Model: 198.81820772931437, Actual: 197\n",
      "Model: 239.13837837701047, Actual: 255\n",
      "Model: 200.1116296871576, Actual: 202\n",
      "Model: 201.44374315816327, Actual: 208\n",
      "Model: 234.95780884903016, Actual: 240\n",
      "Model: 203.24882303021437, Actual: 202\n",
      "Model: 205.33060773796325, Actual: 196\n",
      "Model: 200.8638701398474, Actual: 201\n",
      "Model: 218.5664011008757, Actual: 218\n",
      "Model: 200.12745128232498, Actual: 204\n",
      "Model: 206.87665816690472, Actual: 204\n",
      "Model: 211.76657746153208, Actual: 211\n",
      "Model: 226.52690462075702, Actual: 242\n",
      "Model: 203.8811136141233, Actual: 194\n",
      "Model: 224.39447077845244, Actual: 228\n",
      "Model: 227.2475431892959, Actual: 247\n",
      "Model: 201.29475191135018, Actual: 206\n",
      "Model: 185.97809586292337, Actual: 165\n",
      "Model: 199.6606832404692, Actual: 195\n",
      "Model: 197.5800834646418, Actual: 178\n",
      "Model: 217.7058902143499, Actual: 228\n",
      "Model: 195.85552315911252, Actual: 171\n",
      "Model: 220.01877112619974, Actual: 212\n",
      "Model: 201.82250185853442, Actual: 198\n",
      "Model: 244.21178053416938, Actual: 244\n",
      "Model: 199.40901970825232, Actual: 199\n",
      "Model: 213.01484436709652, Actual: 215\n",
      "Model: 246.2247420723289, Actual: 242\n",
      "Model: 197.92701186083764, Actual: 178\n",
      "Model: 190.27532554744323, Actual: 175\n",
      "Model: 201.48600754847, Actual: 202\n",
      "Model: 192.44357458073472, Actual: 191\n",
      "Model: 195.61806469629556, Actual: 187\n",
      "Model: 212.2121606421431, Actual: 211\n",
      "Model: 202.03479971022813, Actual: 206\n",
      "Model: 235.42982304932798, Actual: 246\n",
      "Model: 257.079196048144, Actual: 253\n",
      "Model: 203.12308624152362, Actual: 196\n",
      "Model: 207.0050714020991, Actual: 216\n",
      "Model: 206.9793534331929, Actual: 202\n",
      "Model: 207.35622871356213, Actual: 205\n",
      "Model: 186.7090497134716, Actual: 170\n",
      "Model: 206.5875399905753, Actual: 202\n",
      "Model: 186.03542102008157, Actual: 163\n",
      "Model: 226.06872522958838, Actual: 234\n",
      "Model: 197.61228903401698, Actual: 195\n",
      "Model: 203.826936743312, Actual: 201\n",
      "Model: 205.70981267264162, Actual: 201\n",
      "Model: 187.351428207336, Actual: 171\n",
      "Model: 196.8857758713797, Actual: 194\n",
      "Model: 205.57846128570472, Actual: 212\n",
      "Model: 208.34348820633306, Actual: 210\n",
      "Model: 203.9059297495106, Actual: 200\n",
      "Model: 184.31112790289106, Actual: 166\n",
      "Model: 205.71929785125386, Actual: 202\n",
      "Model: 198.73132467956782, Actual: 196\n",
      "Model: 203.15437192120288, Actual: 183\n",
      "Model: 210.22819976030829, Actual: 207\n",
      "Model: 205.54358126943794, Actual: 198\n",
      "Model: 195.57415914511583, Actual: 191\n",
      "Model: 224.76327404174938, Actual: 240\n",
      "Model: 197.8745094935932, Actual: 196\n",
      "Model: 203.16274014689782, Actual: 204\n",
      "Model: 196.8633413274299, Actual: 195\n",
      "Model: 185.18123021540248, Actual: 167\n",
      "Model: 232.5628808451936, Actual: 234\n",
      "Model: 202.29148141281462, Actual: 202\n",
      "Model: 204.92029153404977, Actual: 197\n",
      "Model: 202.19297043083904, Actual: 203\n",
      "Model: 200.07685622138948, Actual: 186\n",
      "Model: 203.4503249861877, Actual: 193\n",
      "Model: 202.98990568981097, Actual: 205\n",
      "Model: 215.7384380812834, Actual: 200\n",
      "Model: 207.87902755269766, Actual: 204\n",
      "Model: 204.49509014321887, Actual: 212\n",
      "Model: 201.90144981308705, Actual: 202\n",
      "Model: 200.4698615129533, Actual: 205\n",
      "Model: 200.04869206675244, Actual: 198\n",
      "Model: 232.34713930256876, Actual: 241\n",
      "Model: 198.010102352546, Actual: 193\n",
      "Model: 208.63648966150387, Actual: 207\n",
      "Model: 199.79572813547867, Actual: 197\n"
     ]
    }
   ],
   "source": [
    "for X,y in zip(X_test,y_test):\n",
    "    print(f\"Model: {clf_acs.predict([X])[0]}, Actual: {y}\")"
   ]
  },
  {
   "cell_type": "code",
   "execution_count": null,
   "id": "ea833ca4",
   "metadata": {},
   "outputs": [],
   "source": [
    "clf_kd.score(X2_test,y2_test)"
   ]
  },
  {
   "cell_type": "code",
   "execution_count": 9,
   "id": "19e00c65",
   "metadata": {},
   "outputs": [
    {
     "name": "stdout",
     "output_type": "stream",
     "text": [
      "Model: 0.9958493713541182, Actual: 0.97\n",
      "Model: 0.9634204506147256, Actual: 0.96\n",
      "Model: 1.0255412366198746, Actual: 1.04\n",
      "Model: 0.9992229971515466, Actual: 1.03\n",
      "Model: 0.926242815583985, Actual: 0.89\n",
      "Model: 0.9565902898133286, Actual: 0.97\n",
      "Model: 0.909395753998147, Actual: 0.81\n",
      "Model: 0.9311339224260714, Actual: 0.91\n",
      "Model: 1.0391288720299565, Actual: 1.14\n",
      "Model: 1.0347287109794732, Actual: 1.11\n",
      "Model: 1.0549175377181292, Actual: 1.15\n",
      "Model: 0.9560722860478523, Actual: 0.92\n",
      "Model: 0.9539274345559791, Actual: 0.94\n",
      "Model: 1.0384697179553313, Actual: 1.07\n",
      "Model: 0.9628464858652276, Actual: 0.95\n",
      "Model: 0.9490040416479507, Actual: 0.95\n",
      "Model: 0.9760055232131344, Actual: 0.98\n",
      "Model: 0.9636272610652935, Actual: 0.97\n",
      "Model: 1.0445168022071072, Actual: 1.06\n",
      "Model: 0.9605089962104083, Actual: 0.91\n",
      "Model: 0.9598809133318648, Actual: 0.92\n",
      "Model: 1.0358526639484504, Actual: 1.16\n",
      "Model: 0.9717481259130937, Actual: 0.98\n",
      "Model: 0.9928298315925895, Actual: 0.99\n",
      "Model: 1.0318689522170357, Actual: 1.09\n",
      "Model: 0.9752015689282317, Actual: 0.98\n",
      "Model: 0.946799625454154, Actual: 0.95\n",
      "Model: 0.9537042076532363, Actual: 0.93\n",
      "Model: 0.9841245379091155, Actual: 0.99\n",
      "Model: 0.9642578945146594, Actual: 0.98\n",
      "Model: 0.9601470397368915, Actual: 0.96\n",
      "Model: 0.9937355619143926, Actual: 0.95\n",
      "Model: 1.00954744097601, Actual: 1.05\n",
      "Model: 0.9304497577349448, Actual: 0.93\n",
      "Model: 1.023150187658812, Actual: 1.02\n",
      "Model: 1.0267438001243747, Actual: 1.04\n",
      "Model: 0.9617651918208632, Actual: 0.98\n",
      "Model: 0.8848240415827643, Actual: 0.77\n",
      "Model: 0.9649017398519664, Actual: 0.91\n",
      "Model: 0.9157686078417454, Actual: 0.82\n",
      "Model: 0.9709445214379265, Actual: 0.99\n",
      "Model: 0.9004385078960546, Actual: 0.77\n",
      "Model: 0.9615621249330667, Actual: 0.97\n",
      "Model: 0.9576538033835686, Actual: 0.89\n",
      "Model: 1.0379544606474076, Actual: 1.1\n",
      "Model: 0.9620335203311895, Actual: 0.89\n",
      "Model: 0.9895895243591936, Actual: 0.97\n",
      "Model: 1.039617690400671, Actual: 1.09\n",
      "Model: 0.9132908630336347, Actual: 0.84\n",
      "Model: 0.900951216384487, Actual: 0.8\n",
      "Model: 0.9739851081758518, Actual: 0.96\n",
      "Model: 0.9557502318433463, Actual: 0.87\n",
      "Model: 0.9292554081703072, Actual: 0.87\n",
      "Model: 0.9996535959452072, Actual: 0.96\n",
      "Model: 0.9540771912144664, Actual: 0.97\n",
      "Model: 1.0287980895431714, Actual: 1.11\n",
      "Model: 1.0634445522456066, Actual: 1.14\n",
      "Model: 0.9447456296785737, Actual: 0.87\n",
      "Model: 0.9870787072731722, Actual: 1.05\n",
      "Model: 0.9705034411174317, Actual: 0.97\n",
      "Model: 0.9848666152930305, Actual: 0.99\n",
      "Model: 0.8808320184807303, Actual: 0.78\n",
      "Model: 0.9604358821734769, Actual: 0.91\n",
      "Model: 0.8813349242566059, Actual: 0.75\n",
      "Model: 1.0144917079915456, Actual: 1.06\n",
      "Model: 0.9654318897641981, Actual: 0.95\n",
      "Model: 0.977487567139034, Actual: 1.0\n",
      "Model: 0.9494609634968563, Actual: 0.94\n",
      "Model: 0.8857063386227364, Actual: 0.81\n",
      "Model: 0.9287599406461048, Actual: 0.92\n",
      "Model: 1.0035110326833896, Actual: 1.05\n",
      "Model: 0.9935350393274828, Actual: 1.02\n",
      "Model: 0.9785801352463714, Actual: 0.98\n",
      "Model: 0.8976700367581524, Actual: 0.8\n",
      "Model: 0.9642240245850658, Actual: 0.96\n",
      "Model: 0.9364775981517763, Actual: 0.9\n",
      "Model: 0.923818207184495, Actual: 0.84\n",
      "Model: 1.0001662120328447, Actual: 0.92\n",
      "Model: 0.9575961607960894, Actual: 0.96\n",
      "Model: 0.9382910226478669, Actual: 0.92\n",
      "Model: 1.009742427329931, Actual: 1.03\n",
      "Model: 0.9669861382949589, Actual: 0.96\n",
      "Model: 0.97485931470539, Actual: 0.99\n",
      "Model: 0.9588343575417093, Actual: 0.88\n",
      "Model: 0.9379102588250037, Actual: 0.75\n",
      "Model: 1.0085387927952385, Actual: 1.07\n",
      "Model: 0.9813827712137382, Actual: 1.0\n",
      "Model: 0.9506495893096452, Actual: 0.95\n",
      "Model: 0.959890590459084, Actual: 0.96\n",
      "Model: 0.9066679639873205, Actual: 0.88\n",
      "Model: 0.9344524684172449, Actual: 0.93\n",
      "Model: 0.9569827653721926, Actual: 0.95\n",
      "Model: 0.9502432481784779, Actual: 0.93\n",
      "Model: 0.9656783021906604, Actual: 0.97\n",
      "Model: 1.0151833016672205, Actual: 1.05\n",
      "Model: 0.9676199276369595, Actual: 0.97\n",
      "Model: 0.9638518562896398, Actual: 0.98\n",
      "Model: 0.984239532091443, Actual: 0.99\n",
      "Model: 1.0097019609866653, Actual: 1.1\n",
      "Model: 0.9359465196635133, Actual: 0.91\n",
      "Model: 0.9630032342276496, Actual: 0.97\n",
      "Model: 0.9531961309289999, Actual: 0.92\n"
     ]
    }
   ],
   "source": [
    "for X2,y2 in zip(X2_test,y2_test):\n",
    "    print(f\"Model: {clf_kd.predict([X2])[0]}, Actual: {y2}\")"
   ]
  },
  {
   "cell_type": "code",
   "execution_count": 26,
   "id": "3a42c2e8",
   "metadata": {},
   "outputs": [
    {
     "data": {
      "text/plain": [
       "<AxesSubplot:xlabel='Rank Weapon'>"
      ]
     },
     "execution_count": 26,
     "metadata": {},
     "output_type": "execute_result"
    },
    {
     "data": {
      "image/png": "[encoded data removed]",
      "text/plain": [
       "<Figure size 1080x360 with 1 Axes>"
      ]
     },
     "metadata": {
      "needs_background": "light"
     },
     "output_type": "display_data"
    }
   ],
   "source": [
    "#Creating a subset of weapon dataframe that isolates the vandal weapon\n",
    "vandal  = df_weapon[df_weapon[\"Weapon\"] == \"Vandal\"]\n",
    "vandal = vandal.set_index(\"Rank Weapon\")\n",
    "#Plotting Headshot, Bodyshot, and legshot % for the vandal at all ranks\n",
    "vandal[\"Headshot %\"].plot(figsize=(15,5), label = \"Vandal Headshot %\", legend = True)\n",
    "vandal[\"Bodyshot %\"].plot(figsize=(15,5), label = \"Vandal Bodyshot %\", legend = True)\n",
    "vandal[\"Legshot %\"].plot(figsize=(15,5), label = \"Vandal Legshot %\", legend = True)\n"
   ]
  },
  {
   "cell_type": "code",
   "execution_count": 19,
   "id": "b6b0b801",
   "metadata": {},
   "outputs": [
    {
     "data": {
      "text/plain": [
       "<AxesSubplot:xlabel='Rank Weapon'>"
      ]
     },
     "execution_count": 19,
     "metadata": {},
     "output_type": "execute_result"
    },
    {
     "data": {
      "image/png": "[encoded data removed]",
      "text/plain": [
       "<Figure size 1080x360 with 1 Axes>"
      ]
     },
     "metadata": {
      "needs_background": "light"
     },
     "output_type": "display_data"
    }
   ],
   "source": [
    "#Creating a subset of weapon dataframe that isolates Phantom weapon\n",
    "phantom  = df_weapon[df_weapon[\"Weapon\"] == \"Phantom\"]\n",
    "phantom = phantom.set_index(\"Rank Weapon\")\n",
    "#Plotting Headshot, Bodyshot, and legshot % for the phantom at all ranks\n",
    "phantom[\"Headshot %\"].plot(figsize=(15,5), label = \"Phantom Headshot %\", legend = True)\n",
    "phantom[\"Bodyshot %\"].plot(figsize=(15,5), label = \"Phantom Bodyshot %\", legend = True)\n",
    "phantom[\"Legshot %\"].plot(figsize=(15,5), label = \"Phantom Legshot %\", legend = True)"
   ]
  },
  {
   "cell_type": "code",
   "execution_count": 27,
   "id": "ee4bd5ea",
   "metadata": {},
   "outputs": [
    {
     "data": {
      "text/plain": [
       "<AxesSubplot:xlabel='Rank'>"
      ]
     },
     "execution_count": 27,
     "metadata": {},
     "output_type": "execute_result"
    },
    {
     "data": {
      "image/png": "[encoded data removed]",
      "text/plain": [
       "<Figure size 1080x360 with 1 Axes>"
      ]
     },
     "metadata": {
      "needs_background": "light"
     },
     "output_type": "display_data"
    }
   ],
   "source": [
    "#Creating subsets of weapon dataframe in order to graph the kills per match for both vandal and phantom at all ranks\n",
    "vandal_kpm = df_weapon[df_weapon[\"Weapon\"] == \"Vandal\"]\n",
    "vandal_kpm = vandal_kpm.set_index(\"Rank\")\n",
    "phantom_kpm = df_weapon[df_weapon[\"Weapon\"] == \"Phantom\"]\n",
    "phantom_kpm = phantom_kpm.set_index(\"Rank\")\n",
    "vandal_kpm['Kills per Match'].plot(figsize=(15,5), label = \"Vandal\", legend = True)\n",
    "phantom_kpm['Kills per Match'].plot(figsize=(15,5),label= \"Phantom\",legend = True)"
   ]
  },
  {
   "cell_type": "code",
   "execution_count": null,
   "id": "d5cc6166",
   "metadata": {},
   "outputs": [],
   "source": []
  }
 ],
 "metadata": {
  "kernelspec": {
   "display_name": "Python 3 (ipykernel)",
   "language": "python",
   "name": "python3"
  },
  "language_info": {
   "codemirror_mode": {
    "name": "ipython",
    "version": 3
   },
   "file_extension": ".py",
   "mimetype": "text/x-python",
   "name": "python",
   "nbconvert_exporter": "python",
   "pygments_lexer": "ipython3",
   "version": "3.9.5"
  }
 },
 "nbformat": 4,
 "nbformat_minor": 5
}
